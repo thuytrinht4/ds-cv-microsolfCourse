{
 "cells": [
  {
   "cell_type": "markdown",
   "metadata": {},
   "source": [
    "#  Module 2 Lab 1 \"Thresholding\"\n",
    "\n",
    "# Recap\n",
    "\n",
    "This is the first of four labs for Lesson 2 - Classical Image Segmention in Dev290x.  You should complete the tasks in this lab as part of the Thresholding section of the lesson.\n",
    "\n",
    "Please remember this lab must be completed before taking the quiz at the end of this lesson.\n"
   ]
  },
  {
   "cell_type": "markdown",
   "metadata": {},
   "source": [
    "# Introduction\n",
    "\n",
    "In this lab we introduce our first image segmentation project where we will use thresholding operations to segment a relatively simple image. We will work through this project using the types of image processing techniques such projects typically need and then segment an image.  \n",
    "\n",
    "At the end of the lab we'll review the work we've done and assess what types of images and projects this approach is effective for.\n"
   ]
  },
  {
   "cell_type": "markdown",
   "metadata": {},
   "source": [
    "# Goal\n",
    "\n",
    "In this tutorial we will learn about three key items:\n",
    "* The general image processing algorithms that are required for most image processing projects; e.g. denoising, \n",
    "* Using our first classical segmentation technique on images (thresholding);\n",
    "* How to use Otsu's Method to automatically find a suitable threshold level to segment an image.\n"
   ]
  },
  {
   "cell_type": "markdown",
   "metadata": {},
   "source": [
    "# Background\n",
    "\n",
    "Image segmentation is the process of partitioning a digital image into multiple segments to make the image easier to analyze.  Often we are looking to locate objects and boundaries in the original image.  \n",
    "\n",
    "A more precise way of looking at it is to say that image segmentation's goal is to assign a label to every pixel in an image such that pixels with the same label share certain characteristics.  \n",
    "\n",
    "For example, these images show a typical road scene on the left and a segmented version of the image on the right where the cars have been separated from the road, the buildings, the people in the scene, etc.\n",
    "\n",
    "<p float=\"center\">\n",
    "  <img src=\"../Images/bg-road.png\" width=\"450\" />\n",
    "</p>\n"
   ]
  },
  {
   "cell_type": "markdown",
   "metadata": {},
   "source": [
    "# Our First Segmenter\n",
    "\n",
    "So, now that we've seen what is possible, let's start by solving our first segmentation problem.\n",
    "\n",
    "Let's look at this image of a starfish.  Let's examine it in its original color, in grayscale and in black and white.\n",
    "\n",
    "Colour                            |  Grayscale                           |  Black & White\n",
    ":--------------------------------:|:------------------------------------:|:---------------------------:\n",
    "![](../Images/starfish_resize.png)   | ![](../Images/starfish_grey_resize.png) | ![](../Images/starfish_bw_resize.png)\n",
    "\n",
    "We are searching these images for clues as to how we might be able to segment them into two regions - the 'starfish' region and the 'not starfish' region.\n",
    "\n",
    "It turns out we can segment this image into a region approximating the starfish and a background region (the 'not starfish; region) using thresholding, along with general purpose image processing techniques such as denoising, morphological operations, and some contour detection and drawing.  Finally, once we've established a boundary for the starfish, we can fill our starfish shape. After that we'll use some bitwise operations to overlay our segmented image over the original image."
   ]
  },
  {
   "cell_type": "markdown",
   "metadata": {},
   "source": [
    "First, lets use OpenCV's fastN1MeansDenoisingColored routine to denoise the image.  We're using a larger 'h' and 'hColor' value than typically used as the image is more noisy than images typically used with these technique.  (This should make more sense as we go forward into the CNN segmentation examples)."
   ]
  },
  {
   "cell_type": "code",
   "execution_count": null,
   "metadata": {},
   "outputs": [],
   "source": [
    "# First import OpenCV, NumPY and MatPlotLib as we will use these libraries\n",
    "import cv2\n",
    "import numpy as np\n",
    "import matplotlib.pyplot as plt\n",
    "\n",
    "%matplotlib inline\n",
    "\n",
    "# Load a color image\n",
    "img = cv2.imread(\"../Images/starfish.png\")\n",
    "\n",
    "# Apply some blurring to reduce noise\n",
    "\n",
    "# h is the Parameter regulating filter strength for luminance component. \n",
    "# Bigger h value perfectly removes noise but also removes image details, \n",
    "# smaller h value preserves details but also preserves some noise\n",
    "\n",
    "# Hint: I recommend using larger h and hColor values than typical to remove noise at the\n",
    "# expense of losing image details\n",
    "\n",
    "# Experiment with setting h and hColor to a suitable value.\n",
    "# Exercise: Insert code here to set values for h and hColor. Hint: You'll find answe\n",
    "    \n",
    "# Default values\n",
    "templateWindowSize = 7\n",
    "searchWindowSize = 21\n",
    "    \n",
    "blur = cv2.fastNlMeansDenoisingColored(img, None,h,hColor,templateWindowSize,searchWindowSize)\n",
    "    \n",
    "plt.imshow(cv2.cvtColor(blur, cv2.COLOR_BGR2RGB))\n"
   ]
  },
  {
   "cell_type": "markdown",
   "metadata": {},
   "source": [
    "After applying the fastN1MeansDenoisingColored routine above, you should end up with an image similar to the one on the right here.  You may need to vary the h and hColor parameters to observe the effect of changing them on the blurred image.\n",
    "\n",
    "Your blurred image should look like this one.\n",
    "\n",
    "<img src=\"../Images/starfish_blur.png\" alt=\"Blurred Starfish\" align=\"left\" style=\"width: 300px;\"/>\n"
   ]
  },
  {
   "cell_type": "markdown",
   "metadata": {},
   "source": [
    "Now, lets run a morphological operation on the blurred image.  \n",
    "\n",
    "For this example, we are going to generate a gradient.  \n",
    "\n",
    "This builds on dilation and erosion.  You can read more about erosion and dilation \n",
    "in the 'Basics' section of Lesson 2.\n",
    "\n",
    "Today we are going to use them to generate an outline for our starfish.\n",
    "\n",
    "\n",
    "# Edge Detection\n",
    "Instead of using a gradient, you could use an edge detection such as Sobol, Laplacian and Canny here in combination with adjusting the image denoising step above.  I'll leave those as an exercise for the reader for now!"
   ]
  },
  {
   "cell_type": "code",
   "execution_count": null,
   "metadata": {},
   "outputs": [],
   "source": [
    "# Apply a morphological gradient (dilate the image, erode the image, and take the difference\n",
    "\n",
    "elKernel = cv2.getStructuringElement(cv2.MORPH_ELLIPSE, (13,13))\n",
    "\n",
    "# YOUR CODE HERE\n",
    "# Use openCV's morphologyEx to generate a gradient using the kernel above\n",
    "\n",
    "# END YOUR CODE HERE\n",
    "\n",
    "plt.imshow(cv2.cvtColor(gradient, cv2.COLOR_BGR2RGB))"
   ]
  },
  {
   "cell_type": "markdown",
   "metadata": {},
   "source": [
    "After applying the gradient morphology routine above, you should end up with an image similar to the one shown here.  The outline of the starfish should be starting to emerge at this point.\n",
    "    \n",
    "<img src=\"../Images/starfish_grad.png\" alt=\"Gradient Starfish\" align=\"left\" style=\"width: 300px;\"/>\n",
    "\n"
   ]
  },
  {
   "cell_type": "markdown",
   "metadata": {},
   "source": [
    "We now have completed the pre-processing of our image. \n",
    "\n",
    "From this point onwards, we are concerning ourselves with:\n",
    "\n",
    "a) filling the region of interest, and\n",
    "\n",
    "b) removing artefacts from the image which we are not interested in.\n",
    "\n",
    "There are quite a few approaches we can take to this (including not doing them at all), but today lets apply OTSU's threshold to convert the image to black and white, and perform a closing operation to 'fill in' the starfish and then perform some erosion to remove parts of the image that we consider noise.\n",
    "\n",
    "## OTSU Thresholding\n",
    "When converting from a grayscale image to a black and white image, selecting a good threshold value can be a time-consuming and manual process.  There are a number of automatic thresholding techniques available - and Otsu's method thresholding is one of the better known techniques.\n",
    "\n",
    "Conceptually simple, and relatively low cost computationally, Otsu's threshold iterate through all the possible threshold values to find the threshold value where the sum of foreground and background spreads is at its minimum. \n"
   ]
  },
  {
   "cell_type": "code",
   "execution_count": null,
   "metadata": {},
   "outputs": [],
   "source": [
    "# Apply Otsu's method - or you can adjust the level at which thresholding occurs\n",
    "# and see what the effect of this is\n",
    "\n",
    "# Convert gradient to grayscale\n",
    "gradient = cv2.cvtColor(gradient, cv2.COLOR_BGR2GRAY)\n",
    "\n",
    "\n",
    "# YOUR CODE HERE\n",
    "# generate a matrix called otsu using OpenCV's threshold() function.  Use\n",
    "# Otsu's method.\n",
    "\n",
    "# END YOUR CODE HERE\n",
    "\n",
    "       \n",
    "# Apply a closing operation - we're using a large kernel here. By all means adjust the size of this kernel\n",
    "# and observe the effects\n",
    "closingKernel = cv2.getStructuringElement(cv2.MORPH_ELLIPSE, (33,33))\n",
    "close = cv2.morphologyEx(otsu, cv2.MORPH_CLOSE, closingKernel)\n",
    "    "
   ]
  },
  {
   "cell_type": "code",
   "execution_count": null,
   "metadata": {},
   "outputs": [],
   "source": [
    "# Erode smaller artefacts out of the image - play with iterations to see how it works\n",
    "    \n",
    "# YOUR CODE HERE\n",
    "# generate a matrix called eroded using cv2.erode() function over the 'close' matrix.\n",
    "# Experiment until your output image is similar to the image below\n",
    "\n",
    "# END YOUR CODE HERE\n",
    "\n",
    "plt.imshow(eroded, cmap='gray')"
   ]
  },
  {
   "cell_type": "markdown",
   "metadata": {},
   "source": [
    "After switching to black and white and applying our closing and erosion operations, our simplified starfish is starting to emerge\n",
    "    \n",
    "Original Image            | B&W Image                      | After Closing                   | After Erosion\n",
    ":------------------------:|:------------------------------:|:-------------------------------:|:--------------\n",
    "![](../Images/starfish.png)  | ![](../Images/starfish_otsu.png)  | ![](../Images/starfish_closed.png) | ![](../Images/starfish_eroded.png)\n"
   ]
  },
  {
   "cell_type": "markdown",
   "metadata": {},
   "source": [
    "So, now we've effectively segmented our image. \n",
    "\n",
    "Now, let's post-process the image to find the contours that represent the edge of the starfish.  We'll just use the intuition that the starfish is the largest object in the scene.\n",
    "\n",
    "Then we'lll do a little image manipulation to generate a colour representing the starfish, another colour representing the background (i.e. not the starfish) and then merge those colours with the original image.\n",
    "\n",
    "You'll notice the closing and erosion steps are not perfect - they're not supposed to be.  They are good enough to feed into the findContours routine.  By all means, tune them further to get better quality input into findContours.\n",
    "\n",
    "In the findContours routine we're using cv2.RETR_EXTERNAL.  This is to reduce the complexity of post-processing by only reporting 'external' contours (i.e. we'll attempt to suppress contours that are inside other contours)."
   ]
  },
  {
   "cell_type": "code",
   "execution_count": null,
   "metadata": {},
   "outputs": [],
   "source": [
    "p = int(img.shape[1] * 0.05)\n",
    "eroded[:, 0:p] = 0\n",
    "eroded[:, img.shape[1] - p:] = 0\n"
   ]
  },
  {
   "cell_type": "code",
   "execution_count": null,
   "metadata": {},
   "outputs": [],
   "source": [
    "# YOUR CODE HERE\n",
    "# Find the contours - just external contours to keep post-processing simple\n",
    "\n",
    "# END YOUR CODE HERE"
   ]
  },
  {
   "cell_type": "code",
   "execution_count": null,
   "metadata": {},
   "outputs": [],
   "source": [
    "\n",
    "\n",
    "# Sort the candidates by size, and just keep the largest one\n",
    "contours = sorted(contours, key=cv2.contourArea, reverse=True)[:1]\n",
    "\n",
    "# Lets create two images, initially all zeros (i.e. black)\n",
    "# One image will be filled with 'Blue' wherever we think there's some starfish\n",
    "# The other image will be filled with 'Green' whereever we think there's not some starfish\n",
    "h, w, num_c = img.shape\n",
    "segmask = np.zeros((h, w, num_c), np.uint8)\n",
    "stencil = np.zeros((h, w, num_c), np.uint8)\n",
    "\n",
    "# I know we've only one contour, but - in general - we'd expect to have more contours to deal with\n",
    "for c in contours:\n",
    "    # Fill in the starfish shape into segmask\n",
    "    cv2.drawContours(segmask, [c], 0, (255, 0, 0), -1)\n",
    "    # Lets fill in the starfish shape into stencil as well\n",
    "    # and then re-arrange the colors using numpy\n",
    "    cv2.drawContours(stencil, [c], 0, (255, 0, 0), -1)\n",
    "    stencil[np.where((stencil==[0,0,0]).all(axis=2))] = [0, 255, 0]\n",
    "    stencil[np.where((stencil==[255,0,0]).all(axis=2))] = [0, 0, 0]\n",
    "\n",
    "# Now, lets create a mask image by bitwise ORring segmask and stencil together\n",
    "mask = cv2.bitwise_or(stencil, segmask)\n",
    "\n",
    "plt.imshow(cv2.cvtColor(mask, cv2.COLOR_BGR2RGB))"
   ]
  },
  {
   "cell_type": "markdown",
   "metadata": {},
   "source": [
    "You should have generated a reasonable mask representing our image as having two parts - a 'starfish' and 'not a starfish'.  It should look like the final mask in the image below.\n",
    "    \n",
    "Starfish Mask                    | Not Starfish Mask                | Final Mask\n",
    ":-------------------------------:|:--------------------------------:|:-------------------------------\n",
    "![](../Images/starfish_segmask.png) | ![](../Images/starfish_stencil.png) | ![](../Images/starfish_mask.png)\n"
   ]
  },
  {
   "cell_type": "code",
   "execution_count": null,
   "metadata": {},
   "outputs": [],
   "source": [
    "# Now, lets just blend our original image with our mask\n",
    "\n",
    "# YOUR CODE HERE\n",
    "# Blend the original image 'img' and our mask 'mask'\n",
    "# in any way you see fit, and store it in a variable called output\n",
    "\n",
    "# END YOUR CODE HERE"
   ]
  },
  {
   "cell_type": "code",
   "execution_count": null,
   "metadata": {},
   "outputs": [],
   "source": [
    "plt.imshow(cv2.cvtColor(output, cv2.COLOR_BGR2RGB))"
   ]
  },
  {
   "cell_type": "markdown",
   "metadata": {},
   "source": [
    "After you blend the original image with your mask you should see an image similar to the image shown here.\n",
    "\n",
    "<img src=\"../Images/starfish_segmented.png\" alt=\"Segmented Starfish\" align=\"left\" style=\"width: 300px;\"/>\n",
    "\n"
   ]
  },
  {
   "cell_type": "markdown",
   "metadata": {},
   "source": [
    "# Conclusion\n",
    "\n",
    "So, that completes the first of the four labs to this module.  \n",
    "\n",
    "To summarise , we''ve learned some basic image processing techniques, such as morphological operations like erosion and dilation, contour detection and we've used these techniques in combination with Otsu's thresholding method to segment an image.\n"
   ]
  },
  {
   "cell_type": "markdown",
   "metadata": {},
   "source": [
    "**Solution for Our First Segmenter Missing Code:**\n",
    "\n",
    "    hColor = h = 20\n",
    "\n",
    "**Solution for Edge Detection Missing Code:**\n",
    "\n",
    "    gradient = cv2.morphologyEx(blur, cv2.MORPH_GRADIENT, elKernel)\n",
    "\n",
    "**Solution for OTSU Thresholding:**\n",
    "\n",
    "    otsu = cv2.threshold(gradient, 0, 255, cv2.THRESH_BINARY | cv2.THRESH_OTSU)[1]\n",
    "\n",
    "**Solution for Erode Smaller Artefacts Missing Code:**\n",
    "\n",
    "    eroded = cv2.erode(close, None, iterations=6)\n",
    "\n",
    "**Solution for Find the Contours Missing Code:**\n",
    "\n",
    "    (cnting, contours, _) = cv2.findContours(eroded.copy(), cv2.RETR_EXTERNAL, cv2.CHAIN_APPROX_SIMPLE)\n",
    "\n",
    "**Solution for Blending Original Image with Mask Missing Code:**\n",
    "\n",
    "    output = cv2.bitwise_or(mask, img)"
   ]
  }
 ],
 "metadata": {
  "kernelspec": {
   "display_name": "Python 3",
   "language": "python",
   "name": "python3"
  },
  "language_info": {
   "codemirror_mode": {
    "name": "ipython",
    "version": 3
   },
   "file_extension": ".py",
   "mimetype": "text/x-python",
   "name": "python",
   "nbconvert_exporter": "python",
   "pygments_lexer": "ipython3",
   "version": "3.5.4"
  }
 },
 "nbformat": 4,
 "nbformat_minor": 2
}
